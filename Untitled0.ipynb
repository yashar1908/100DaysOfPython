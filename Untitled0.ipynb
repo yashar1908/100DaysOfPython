{
  "nbformat": 4,
  "nbformat_minor": 0,
  "metadata": {
    "colab": {
      "provenance": [],
      "include_colab_link": true
    },
    "kernelspec": {
      "name": "python3",
      "display_name": "Python 3"
    },
    "language_info": {
      "name": "python"
    }
  },
  "cells": [
    {
      "cell_type": "markdown",
      "metadata": {
        "id": "view-in-github",
        "colab_type": "text"
      },
      "source": [
        "<a href=\"https://colab.research.google.com/github/yashar1908/100DaysOfPython/blob/main/Untitled0.ipynb\" target=\"_parent\"><img src=\"https://colab.research.google.com/assets/colab-badge.svg\" alt=\"Open In Colab\"/></a>"
      ]
    },
    {
      "cell_type": "code",
      "execution_count": null,
      "metadata": {
        "id": "qyd-POoMsgTF"
      },
      "outputs": [],
      "source": [
        "import numpy as np #libraries containing specific functions, numpy array,matrices,lists, values etc\n",
        "import pandas as pd #tabular and excel\n",
        "import matplotlib.pyplot as plt #plotting"
      ]
    },
    {
      "cell_type": "code",
      "source": [
        "df = pd.read_excel('/content/180-40%results.xlsx', sheet_name = 'For finding range of RC-TC')"
      ],
      "metadata": {
        "id": "icqA3MRz2syl"
      },
      "execution_count": null,
      "outputs": []
    },
    {
      "cell_type": "code",
      "source": [
        "df = df.dropna #will delet rows with missing values"
      ],
      "metadata": {
        "id": "URxnvnG47Vo7"
      },
      "execution_count": null,
      "outputs": []
    },
    {
      "cell_type": "code",
      "source": [
        "#df.tail(5) #not necessary, shows last 5 dps, head is start ke"
      ],
      "metadata": {
        "id": "8PC0IfiQ37Jk"
      },
      "execution_count": null,
      "outputs": []
    },
    {
      "cell_type": "code",
      "source": [
        "df"
      ],
      "metadata": {
        "id": "OQRwzvyq7oVX",
        "colab": {
          "base_uri": "https://localhost:8080/"
        },
        "outputId": "82aa977d-1134-4398-ec88-86500b365a43"
      },
      "execution_count": null,
      "outputs": [
        {
          "output_type": "execute_result",
          "data": {
            "text/plain": [
              "<bound method DataFrame.dropna of      Sr no   Design Points  Rc (m)  Tc (m)  Wingspan(in)      Rc(in)  Tc(in)  \\\n",
              "0      1.0  Design Point 1   0.508  0.2032         180.0          20     8.0   \n",
              "1      2.0  Design Point 2   0.508  0.2540         180.0          20    10.0   \n",
              "2      3.0  Design Point 3   0.508  0.3048         180.0          20    12.0   \n",
              "3      4.0  Design Point 4   0.508  0.3556         180.0          20    14.0   \n",
              "4      5.0  Design Point 5   0.508  0.4064         180.0          20    16.0   \n",
              "..     ...             ...     ...     ...           ...         ...     ...   \n",
              "571    NaN             NaN     NaN     NaN           NaN   275.18354     NaN   \n",
              "572    NaN             NaN     NaN     NaN           NaN  284.128331     NaN   \n",
              "573    NaN             NaN     NaN     NaN           NaN   291.12089     NaN   \n",
              "574    NaN             NaN     NaN     NaN           NaN  299.063588     NaN   \n",
              "575    NaN             NaN     NaN     NaN           NaN  306.784239     NaN   \n",
              "\n",
              "     Rec - half Ext(in)  Rec%  Tap - Half (in)  ...  PlanformArea(in^2)  \\\n",
              "0                  18.0  20.0             72.0  ...              2736.0   \n",
              "1                  18.0  20.0             72.0  ...              2880.0   \n",
              "2                  18.0  20.0             72.0  ...              3024.0   \n",
              "3                  18.0  20.0             72.0  ...              3168.0   \n",
              "4                  18.0  20.0             72.0  ...              3312.0   \n",
              "..                  ...   ...              ...  ...                 ...   \n",
              "571                 NaN   NaN              NaN  ...                 NaN   \n",
              "572                 NaN   NaN              NaN  ...                 NaN   \n",
              "573                 NaN   NaN              NaN  ...                 NaN   \n",
              "574                 NaN   NaN              NaN  ...                 NaN   \n",
              "575                 NaN   NaN              NaN  ...                 NaN   \n",
              "\n",
              "            AR  LIFT  DRAG  Unnamed: 17  Unnamed: 18  Unnamed: 19  \\\n",
              "0    11.842105   NaN   NaN          NaN          NaN          NaN   \n",
              "1    11.250000   NaN   NaN          NaN          NaN          NaN   \n",
              "2    10.714286   NaN   NaN          NaN          NaN          NaN   \n",
              "3    10.227273   NaN   NaN          NaN          NaN          NaN   \n",
              "4     9.782609   NaN   NaN          NaN          NaN          NaN   \n",
              "..         ...   ...   ...          ...          ...          ...   \n",
              "571        NaN   NaN   NaN          NaN          NaN          NaN   \n",
              "572        NaN   NaN   NaN          NaN          NaN          NaN   \n",
              "573        NaN   NaN   NaN          NaN          NaN          NaN   \n",
              "574        NaN   NaN   NaN          NaN          NaN          NaN   \n",
              "575        NaN   NaN   NaN          NaN          NaN          NaN   \n",
              "\n",
              "     Unnamed: 20  Unnamed: 21  Unnamed: 22  \n",
              "0            NaN          NaN          NaN  \n",
              "1            NaN          NaN          NaN  \n",
              "2            NaN          NaN          NaN  \n",
              "3            NaN          NaN          NaN  \n",
              "4            NaN          NaN          NaN  \n",
              "..           ...          ...          ...  \n",
              "571          NaN          NaN          NaN  \n",
              "572          NaN          NaN          NaN  \n",
              "573          NaN          NaN          NaN  \n",
              "574          NaN          NaN          NaN  \n",
              "575          NaN          NaN          NaN  \n",
              "\n",
              "[576 rows x 23 columns]>"
            ]
          },
          "metadata": {},
          "execution_count": 19
        }
      ]
    },
    {
      "cell_type": "code",
      "source": [
        "df.shape #shows rows and columns.. not needed in code"
      ],
      "metadata": {
        "id": "kpVtJlCX25PM",
        "colab": {
          "base_uri": "https://localhost:8080/",
          "height": 171
        },
        "outputId": "6b591b2b-ac33-452d-90d6-a1317026f557"
      },
      "execution_count": null,
      "outputs": [
        {
          "output_type": "error",
          "ename": "AttributeError",
          "evalue": "ignored",
          "traceback": [
            "\u001b[0;31m---------------------------------------------------------------------------\u001b[0m",
            "\u001b[0;31mAttributeError\u001b[0m                            Traceback (most recent call last)",
            "\u001b[0;32m<ipython-input-20-fcb36ff7e65f>\u001b[0m in \u001b[0;36m<cell line: 1>\u001b[0;34m()\u001b[0m\n\u001b[0;32m----> 1\u001b[0;31m \u001b[0mdf\u001b[0m\u001b[0;34m.\u001b[0m\u001b[0mshape\u001b[0m \u001b[0;31m#shows rows and columns.. not needed in code\u001b[0m\u001b[0;34m\u001b[0m\u001b[0;34m\u001b[0m\u001b[0m\n\u001b[0m",
            "\u001b[0;31mAttributeError\u001b[0m: 'function' object has no attribute 'shape'"
          ]
        }
      ]
    },
    {
      "cell_type": "code",
      "source": [
        "df.shape[1]"
      ],
      "metadata": {
        "colab": {
          "base_uri": "https://localhost:8080/",
          "height": 171
        },
        "id": "ZlMOgSL2yZHT",
        "outputId": "a315067a-cf34-4b41-89c5-95227618b436"
      },
      "execution_count": null,
      "outputs": [
        {
          "output_type": "error",
          "ename": "AttributeError",
          "evalue": "ignored",
          "traceback": [
            "\u001b[0;31m---------------------------------------------------------------------------\u001b[0m",
            "\u001b[0;31mAttributeError\u001b[0m                            Traceback (most recent call last)",
            "\u001b[0;32m<ipython-input-21-9323fb94d0ce>\u001b[0m in \u001b[0;36m<cell line: 1>\u001b[0;34m()\u001b[0m\n\u001b[0;32m----> 1\u001b[0;31m \u001b[0mdf\u001b[0m\u001b[0;34m.\u001b[0m\u001b[0mshape\u001b[0m\u001b[0;34m[\u001b[0m\u001b[0;36m1\u001b[0m\u001b[0;34m]\u001b[0m\u001b[0;34m\u001b[0m\u001b[0;34m\u001b[0m\u001b[0m\n\u001b[0m",
            "\u001b[0;31mAttributeError\u001b[0m: 'function' object has no attribute 'shape'"
          ]
        }
      ]
    },
    {
      "cell_type": "code",
      "source": [
        "df.columns #column names"
      ],
      "metadata": {
        "id": "GM5Wbds83Ip7",
        "colab": {
          "base_uri": "https://localhost:8080/",
          "height": 171
        },
        "outputId": "5562c6c4-e770-433c-edb6-7812394c5a07"
      },
      "execution_count": null,
      "outputs": [
        {
          "output_type": "error",
          "ename": "AttributeError",
          "evalue": "ignored",
          "traceback": [
            "\u001b[0;31m---------------------------------------------------------------------------\u001b[0m",
            "\u001b[0;31mAttributeError\u001b[0m                            Traceback (most recent call last)",
            "\u001b[0;32m<ipython-input-22-d21c0a43be44>\u001b[0m in \u001b[0;36m<cell line: 1>\u001b[0;34m()\u001b[0m\n\u001b[0;32m----> 1\u001b[0;31m \u001b[0mdf\u001b[0m\u001b[0;34m.\u001b[0m\u001b[0mcolumns\u001b[0m \u001b[0;31m#column names\u001b[0m\u001b[0;34m\u001b[0m\u001b[0;34m\u001b[0m\u001b[0m\n\u001b[0m",
            "\u001b[0;31mAttributeError\u001b[0m: 'function' object has no attribute 'columns'"
          ]
        }
      ]
    },
    {
      "cell_type": "code",
      "source": [
        "df['Rec%'][21] # 22nd row pe rect %"
      ],
      "metadata": {
        "id": "Z20tGo9y3wfr",
        "colab": {
          "base_uri": "https://localhost:8080/",
          "height": 171
        },
        "outputId": "d0dae661-7367-4f79-faeb-8bfdb0b61180"
      },
      "execution_count": null,
      "outputs": [
        {
          "output_type": "error",
          "ename": "TypeError",
          "evalue": "ignored",
          "traceback": [
            "\u001b[0;31m---------------------------------------------------------------------------\u001b[0m",
            "\u001b[0;31mTypeError\u001b[0m                                 Traceback (most recent call last)",
            "\u001b[0;32m<ipython-input-23-896041287f16>\u001b[0m in \u001b[0;36m<cell line: 1>\u001b[0;34m()\u001b[0m\n\u001b[0;32m----> 1\u001b[0;31m \u001b[0mdf\u001b[0m\u001b[0;34m[\u001b[0m\u001b[0;34m'Rec%'\u001b[0m\u001b[0;34m]\u001b[0m\u001b[0;34m[\u001b[0m\u001b[0;36m21\u001b[0m\u001b[0;34m]\u001b[0m \u001b[0;31m# 22nd row pe rect %\u001b[0m\u001b[0;34m\u001b[0m\u001b[0;34m\u001b[0m\u001b[0m\n\u001b[0m",
            "\u001b[0;31mTypeError\u001b[0m: 'method' object is not subscriptable"
          ]
        }
      ]
    },
    {
      "cell_type": "code",
      "source": [
        "# Avionics inputs (assuming these are constant for all design points)\n",
        "staticThrust = 56.47617 / 9.81  # kg, sunnysky = 21x12\n",
        "ve_prac = 10\n",
        "exit = ve_prac\n",
        "motor_mass = 0  # 0.977; SunnySky X5320 = 0, Scorpion SII5535 = 0.977\n",
        "# DualSky XM6360EA-19 = 0.738\n",
        "staticThrustN = staticThrust * 9.8\n",
        "alpha = staticThrustN / (exit ** 2)\n",
        "\n",
        "\n",
        "# Loop over each design point\n",
        "for i in range(df.shape[0]): #creating a loop for all the rows\n",
        "    payload = 0  # lbs\n",
        "    friction = 0.1\n",
        "    e = 2.71828\n",
        "    fuse_width = 0\n",
        "    liftFactor = 0.8\n",
        "    emptyWeight = 22  # lbs\n",
        "    TDist = []\n",
        "    Vellift = []\n",
        "    Velstall = []\n",
        "    EstiAllup = []\n",
        "    FlightScore = []\n",
        "    MetalPayload = []\n",
        "    Flightroundscore = []\n",
        "\n",
        "    # Plane design parameters for the current design point\n",
        "    span = df['Wingspan(in)'][i]\n",
        "    rootChord = df['Rc(in)'][i]\n",
        "    tipChord = df['Tc(in)'][i]\n",
        "    rectangularPercentage = df['Rec%'][i]\n",
        "    cl = df['cl'][i]\n",
        "    cd_fuse = 0.0\n",
        "    cd = df['cd'][i]\n",
        "    area = df['planform in m'][i]\n",
        "\n",
        "    # Plane GO BRRRR: Code to check the takeoff distance for a given config\n",
        "    mass = emptyWeight + motor_mass\n",
        "    dynamicThrust = staticThrustN\n",
        "    takeoffDistance = 0\n",
        "    while takeoffDistance <= 95:\n",
        "        payload += 0.01\n",
        "        allUpWeight = payload + mass\n",
        "        vStall = np.sqrt((2 * allUpWeight * 9.8) / (1.225 * area * cl * 2.2))\n",
        "        vLift = liftFactor * vStall\n",
        "        dynamicThrust = staticThrustN - (alpha * vLift ** 2)\n",
        "        A = (((staticThrustN * 2.2) / allUpWeight) - (friction * 9.81))\n",
        "        B = ((1.225 * area * 0.5 * (cd - (friction * cl)) + alpha) * 2.2) / allUpWeight\n",
        "        takeoffDistance = ((np.log(abs(A) / abs((A - (B * (vLift ** 2)))))) / (2 * B)) * 3.28\n",
        "        takeoff_vStall = ((np.log(abs(A) / abs((A - (B * (vStall ** 2)))))) / (2 * B)) * 3.28\n",
        "        if allUpWeight <= 55:\n",
        "            TDist.append(takeoffDistance)\n",
        "            Vellift.append(vLift)\n",
        "            Velstall.append(vStall)\n",
        "            EstiAllup.append(allUpWeight)\n",
        "            MetalPayload.append(payload)\n",
        "            ScorePerFlightRound = (((payload / 2) + 5))\n",
        "            FS = (ScorePerFlightRound * 3 + 2 ** (1 + (span * 0.08333333333 / 5)))\n",
        "            FlightScore.append(FS)\n",
        "            Flightroundscore.append(ScorePerFlightRound)\n",
        "\n",
        "    # Additional calculations and plots\n",
        "    cargoWeight = payload\n",
        "    PPB = 5\n",
        "    FlightScorePerRound = (((cargoWeight / 2) + PPB) * 3)\n",
        "    WingspanBonus = 2 ** (1 + (span * 0.08333333333 / 5))\n",
        "    FinalFlightScore = (((cargoWeight / 2) + 5) * 3) + 2 ** (1 + (span * 0.08333333333 / 5))\n",
        "    netWeight = cargoWeight + mass\n",
        "    takeoff_vLift = takeoffDistance\n",
        "    takeoff_vStall\n",
        "    ScorePerFlightRound\n",
        "    vLift\n",
        "    vStall\n",
        "\n",
        "    # Create a DataFrame with the calculated values for the current design point\n",
        "    data = {\n",
        "        \"TDist\": TDist,\n",
        "        \"Vellift\": Vellift,\n",
        "        \"Velstall\": Velstall,\n",
        "        \"EstiAllup\": EstiAllup,\n",
        "        \"MetalPayload\": MetalPayload,\n",
        "        \"FlightScore\": FlightScore,\n",
        "        \"Flightroundscore\": Flightroundscore #dictionary created\n",
        "    }\n",
        "    T2 = pd.DataFrame(data) #key and value\n",
        "\n",
        "    # Sort the DataFrame by 'TDist' column in descending order\n",
        "    T2 = T2.sort_values(by=\"TDist\", ascending=False)\n",
        "\n",
        "    # Display the DataFrame for the current design point\n",
        "    print('Values for Design Point', i)\n",
        "    print(T2.iloc[0]) #iloc to access an entire row\n",
        "\n",
        "    df.loc[i, T2.iloc[0].index] = T2.iloc[0]\n",
        "\n",
        "    # Plot the graphs for the current design point\n",
        "    #plt.figure()\n",
        "    #plt.plot(TDist, MetalPayload, \"black\", label=\"Metal Payload\")\n",
        "    #plt.plot(TDist, Flightroundscore, \"blue\", label=\"Flight Round Score\")\n",
        "    #plt.xlabel(\"Takeoff Distance (ft)\")\n",
        "    #plt.ylabel(\"Payload (lbs)\")\n",
        "    #plt.legend()\n",
        "    #plt.show(block=True)  # Pause execution until the plot window is closed\n",
        "\n",
        "    print(\"\\n \\n \\n\")\n",
        "\n",
        "   # plt.figure()\n",
        "   # plt.plot(Vellift, TDist, \"black\", label=\"Vellift\")\n",
        "    #plt.plot(Vellift, MetalPayload, \"blue\", label=\"Metal Payload\")\n",
        "    #plt.xlabel(\"Vellift (m/s)\")\n",
        "    #plt.ylabel(\"Distance (ft)\")\n",
        "    #plt.legend()\n",
        "    #plt.show(block=True)  # Pause execution until the plot window is closed\n",
        "\n",
        "\n"
      ],
      "metadata": {
        "id": "baqLDA7tBGCV",
        "colab": {
          "base_uri": "https://localhost:8080/",
          "height": 243
        },
        "outputId": "356a5226-dab1-411a-abea-77c312d5eba9"
      },
      "execution_count": null,
      "outputs": [
        {
          "output_type": "error",
          "ename": "AttributeError",
          "evalue": "ignored",
          "traceback": [
            "\u001b[0;31m---------------------------------------------------------------------------\u001b[0m",
            "\u001b[0;31mAttributeError\u001b[0m                            Traceback (most recent call last)",
            "\u001b[0;32m<ipython-input-24-436bc0598642>\u001b[0m in \u001b[0;36m<cell line: 12>\u001b[0;34m()\u001b[0m\n\u001b[1;32m     10\u001b[0m \u001b[0;34m\u001b[0m\u001b[0m\n\u001b[1;32m     11\u001b[0m \u001b[0;31m# Loop over each design point\u001b[0m\u001b[0;34m\u001b[0m\u001b[0;34m\u001b[0m\u001b[0m\n\u001b[0;32m---> 12\u001b[0;31m \u001b[0;32mfor\u001b[0m \u001b[0mi\u001b[0m \u001b[0;32min\u001b[0m \u001b[0mrange\u001b[0m\u001b[0;34m(\u001b[0m\u001b[0mdf\u001b[0m\u001b[0;34m.\u001b[0m\u001b[0mshape\u001b[0m\u001b[0;34m[\u001b[0m\u001b[0;36m0\u001b[0m\u001b[0;34m]\u001b[0m\u001b[0;34m)\u001b[0m\u001b[0;34m:\u001b[0m \u001b[0;31m#creating a loop for all the rows\u001b[0m\u001b[0;34m\u001b[0m\u001b[0;34m\u001b[0m\u001b[0m\n\u001b[0m\u001b[1;32m     13\u001b[0m     \u001b[0mpayload\u001b[0m \u001b[0;34m=\u001b[0m \u001b[0;36m0\u001b[0m  \u001b[0;31m# lbs\u001b[0m\u001b[0;34m\u001b[0m\u001b[0;34m\u001b[0m\u001b[0m\n\u001b[1;32m     14\u001b[0m     \u001b[0mfriction\u001b[0m \u001b[0;34m=\u001b[0m \u001b[0;36m0.1\u001b[0m\u001b[0;34m\u001b[0m\u001b[0;34m\u001b[0m\u001b[0m\n",
            "\u001b[0;31mAttributeError\u001b[0m: 'function' object has no attribute 'shape'"
          ]
        }
      ]
    },
    {
      "cell_type": "code",
      "source": [
        "df"
      ],
      "metadata": {
        "id": "_ZBsRxAJqcRx",
        "colab": {
          "base_uri": "https://localhost:8080/"
        },
        "outputId": "ad063ee2-9613-4c74-9477-ac9887381595"
      },
      "execution_count": null,
      "outputs": [
        {
          "output_type": "execute_result",
          "data": {
            "text/plain": [
              "<bound method DataFrame.dropna of      Sr no   Design Points  Rc (m)  Tc (m)  Wingspan(in)      Rc(in)  Tc(in)  \\\n",
              "0      1.0  Design Point 1   0.508  0.2032         180.0          20     8.0   \n",
              "1      2.0  Design Point 2   0.508  0.2540         180.0          20    10.0   \n",
              "2      3.0  Design Point 3   0.508  0.3048         180.0          20    12.0   \n",
              "3      4.0  Design Point 4   0.508  0.3556         180.0          20    14.0   \n",
              "4      5.0  Design Point 5   0.508  0.4064         180.0          20    16.0   \n",
              "..     ...             ...     ...     ...           ...         ...     ...   \n",
              "571    NaN             NaN     NaN     NaN           NaN   275.18354     NaN   \n",
              "572    NaN             NaN     NaN     NaN           NaN  284.128331     NaN   \n",
              "573    NaN             NaN     NaN     NaN           NaN   291.12089     NaN   \n",
              "574    NaN             NaN     NaN     NaN           NaN  299.063588     NaN   \n",
              "575    NaN             NaN     NaN     NaN           NaN  306.784239     NaN   \n",
              "\n",
              "     Rec - half Ext(in)  Rec%  Tap - Half (in)  ...  PlanformArea(in^2)  \\\n",
              "0                  18.0  20.0             72.0  ...              2736.0   \n",
              "1                  18.0  20.0             72.0  ...              2880.0   \n",
              "2                  18.0  20.0             72.0  ...              3024.0   \n",
              "3                  18.0  20.0             72.0  ...              3168.0   \n",
              "4                  18.0  20.0             72.0  ...              3312.0   \n",
              "..                  ...   ...              ...  ...                 ...   \n",
              "571                 NaN   NaN              NaN  ...                 NaN   \n",
              "572                 NaN   NaN              NaN  ...                 NaN   \n",
              "573                 NaN   NaN              NaN  ...                 NaN   \n",
              "574                 NaN   NaN              NaN  ...                 NaN   \n",
              "575                 NaN   NaN              NaN  ...                 NaN   \n",
              "\n",
              "            AR  LIFT  DRAG  Unnamed: 17  Unnamed: 18  Unnamed: 19  \\\n",
              "0    11.842105   NaN   NaN          NaN          NaN          NaN   \n",
              "1    11.250000   NaN   NaN          NaN          NaN          NaN   \n",
              "2    10.714286   NaN   NaN          NaN          NaN          NaN   \n",
              "3    10.227273   NaN   NaN          NaN          NaN          NaN   \n",
              "4     9.782609   NaN   NaN          NaN          NaN          NaN   \n",
              "..         ...   ...   ...          ...          ...          ...   \n",
              "571        NaN   NaN   NaN          NaN          NaN          NaN   \n",
              "572        NaN   NaN   NaN          NaN          NaN          NaN   \n",
              "573        NaN   NaN   NaN          NaN          NaN          NaN   \n",
              "574        NaN   NaN   NaN          NaN          NaN          NaN   \n",
              "575        NaN   NaN   NaN          NaN          NaN          NaN   \n",
              "\n",
              "     Unnamed: 20  Unnamed: 21  Unnamed: 22  \n",
              "0            NaN          NaN          NaN  \n",
              "1            NaN          NaN          NaN  \n",
              "2            NaN          NaN          NaN  \n",
              "3            NaN          NaN          NaN  \n",
              "4            NaN          NaN          NaN  \n",
              "..           ...          ...          ...  \n",
              "571          NaN          NaN          NaN  \n",
              "572          NaN          NaN          NaN  \n",
              "573          NaN          NaN          NaN  \n",
              "574          NaN          NaN          NaN  \n",
              "575          NaN          NaN          NaN  \n",
              "\n",
              "[576 rows x 23 columns]>"
            ]
          },
          "metadata": {},
          "execution_count": 25
        }
      ]
    },
    {
      "cell_type": "code",
      "source": [
        "from google.colab import files\n",
        "output_file = '/content/180-40%results.xlsx'\n",
        "df.to_excel(output_file, index=False)"
      ],
      "metadata": {
        "id": "b-677uGAs3PF",
        "colab": {
          "base_uri": "https://localhost:8080/",
          "height": 207
        },
        "outputId": "44f18f96-36a8-450e-84b0-508e91ee6d47"
      },
      "execution_count": null,
      "outputs": [
        {
          "output_type": "error",
          "ename": "AttributeError",
          "evalue": "ignored",
          "traceback": [
            "\u001b[0;31m---------------------------------------------------------------------------\u001b[0m",
            "\u001b[0;31mAttributeError\u001b[0m                            Traceback (most recent call last)",
            "\u001b[0;32m<ipython-input-26-4feb8675be46>\u001b[0m in \u001b[0;36m<cell line: 3>\u001b[0;34m()\u001b[0m\n\u001b[1;32m      1\u001b[0m \u001b[0;32mfrom\u001b[0m \u001b[0mgoogle\u001b[0m\u001b[0;34m.\u001b[0m\u001b[0mcolab\u001b[0m \u001b[0;32mimport\u001b[0m \u001b[0mfiles\u001b[0m\u001b[0;34m\u001b[0m\u001b[0;34m\u001b[0m\u001b[0m\n\u001b[1;32m      2\u001b[0m \u001b[0moutput_file\u001b[0m \u001b[0;34m=\u001b[0m \u001b[0;34m'/content/180-40%results.xlsx'\u001b[0m\u001b[0;34m\u001b[0m\u001b[0;34m\u001b[0m\u001b[0m\n\u001b[0;32m----> 3\u001b[0;31m \u001b[0mdf\u001b[0m\u001b[0;34m.\u001b[0m\u001b[0mto_excel\u001b[0m\u001b[0;34m(\u001b[0m\u001b[0moutput_file\u001b[0m\u001b[0;34m,\u001b[0m \u001b[0mindex\u001b[0m\u001b[0;34m=\u001b[0m\u001b[0;32mFalse\u001b[0m\u001b[0;34m)\u001b[0m\u001b[0;34m\u001b[0m\u001b[0;34m\u001b[0m\u001b[0m\n\u001b[0m",
            "\u001b[0;31mAttributeError\u001b[0m: 'function' object has no attribute 'to_excel'"
          ]
        }
      ]
    },
    {
      "cell_type": "code",
      "source": [
        "files.download(output_file)"
      ],
      "metadata": {
        "colab": {
          "base_uri": "https://localhost:8080/",
          "height": 17
        },
        "id": "u84s3Cuet4Qm",
        "outputId": "195c2a77-6056-4b36-9ecf-f2d1394a166c"
      },
      "execution_count": null,
      "outputs": [
        {
          "output_type": "display_data",
          "data": {
            "text/plain": [
              "<IPython.core.display.Javascript object>"
            ],
            "application/javascript": [
              "\n",
              "    async function download(id, filename, size) {\n",
              "      if (!google.colab.kernel.accessAllowed) {\n",
              "        return;\n",
              "      }\n",
              "      const div = document.createElement('div');\n",
              "      const label = document.createElement('label');\n",
              "      label.textContent = `Downloading \"${filename}\": `;\n",
              "      div.appendChild(label);\n",
              "      const progress = document.createElement('progress');\n",
              "      progress.max = size;\n",
              "      div.appendChild(progress);\n",
              "      document.body.appendChild(div);\n",
              "\n",
              "      const buffers = [];\n",
              "      let downloaded = 0;\n",
              "\n",
              "      const channel = await google.colab.kernel.comms.open(id);\n",
              "      // Send a message to notify the kernel that we're ready.\n",
              "      channel.send({})\n",
              "\n",
              "      for await (const message of channel.messages) {\n",
              "        // Send a message to notify the kernel that we're ready.\n",
              "        channel.send({})\n",
              "        if (message.buffers) {\n",
              "          for (const buffer of message.buffers) {\n",
              "            buffers.push(buffer);\n",
              "            downloaded += buffer.byteLength;\n",
              "            progress.value = downloaded;\n",
              "          }\n",
              "        }\n",
              "      }\n",
              "      const blob = new Blob(buffers, {type: 'application/binary'});\n",
              "      const a = document.createElement('a');\n",
              "      a.href = window.URL.createObjectURL(blob);\n",
              "      a.download = filename;\n",
              "      div.appendChild(a);\n",
              "      a.click();\n",
              "      div.remove();\n",
              "    }\n",
              "  "
            ]
          },
          "metadata": {}
        },
        {
          "output_type": "display_data",
          "data": {
            "text/plain": [
              "<IPython.core.display.Javascript object>"
            ],
            "application/javascript": [
              "download(\"download_658b4352-92d9-4e74-84ce-01ccc4cd5717\", \"180-40%results.xlsx\", 2570288)"
            ]
          },
          "metadata": {}
        }
      ]
    },
    {
      "cell_type": "code",
      "source": [],
      "metadata": {
        "id": "ET1jiy2b2bEd"
      },
      "execution_count": null,
      "outputs": []
    }
  ]
}